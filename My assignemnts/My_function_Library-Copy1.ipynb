{
 "cells": [
  {
   "cell_type": "markdown",
   "metadata": {},
   "source": [
    "# Matrix functions"
   ]
  },
  {
   "cell_type": "code",
   "execution_count": null,
   "metadata": {},
   "outputs": [],
   "source": [
    "#external libraries have been solely used to efficintly read/write matrices only.\n",
    "#------USED-LIBRARIES-----#\n",
    "import pandas as pd\n",
    "import numpy as np\n",
    "\n",
    "#------ANON-FUNCTIONS-----#\n",
    "\n",
    "nrow = lambda x: x.shape[0]\n",
    "ncol = lambda x: x.shape[1]"
   ]
  },
  {
   "cell_type": "markdown",
   "metadata": {},
   "source": [
    "### To read write and save matrices"
   ]
  },
  {
   "cell_type": "code",
   "execution_count": null,
   "metadata": {},
   "outputs": [],
   "source": [
    "#to read a matrix\n",
    "def read_matrix_file(name):\n",
    "\n",
    "    return np.array(pd.read_csv(name,header=None,dtype=float))\n",
    "\n",
    "#To write and save matrix\n",
    "def write_matrix_file(x,name=\"output\"):\n",
    "\n",
    "    np.savetxt(name+\".txt\",x,delimiter=\",\",fmt=\"%.3e\")\n"
   ]
  },
  {
   "cell_type": "markdown",
   "metadata": {},
   "source": [
    "### To print matrix, multipy two matrix and to take transpose of a matrix"
   ]
  },
  {
   "cell_type": "code",
   "execution_count": 1,
   "metadata": {},
   "outputs": [],
   "source": [
    "#To print a matrix\n",
    "def print_matrix(A,r,c):\n",
    "    print()\n",
    "    print(\"The matrix obtained is: \")\n",
    "    for i in range(r):\n",
    "        for j in range(c):                                           # algorithm to print the matrix with appropriate spaces\n",
    "            print(A[i][j], end='    ')                               # r represents no. of rows and c represents no. of columns\n",
    "        print(\"\\n\")\n",
    "    print()\n",
    "    \n",
    "#To multiply two matrices\n",
    "def matrix_multiply(A,rA,cA,B,rB,cB):                          # rA,rB,cA,cB are no. of rows and columns of A and B respectively\n",
    "    if cA==rB:                                                       # checking if the two matrices A and B can be multiplied\n",
    "        C=[[0 for i in range(cB)] for j in range(rA)]                # initializing matrix C\n",
    "        for i in range(rA):\n",
    "            for j in range(cB):\n",
    "                for k in range(cB):\n",
    "                    C[i][j]+=float(A[i][k])*float(B[k][j])            # matrix A and B multiplication algorithm\n",
    "        print_matrix(C,rA,cB)\n",
    "    else:\n",
    "        print(\"Matrices are not compatible to perform multiplication.\")\n",
    "\n",
    "#To take transpose of a matrix\n",
    "def transpose_matrix(A,r,c):\n",
    "    B = [[0 for x in range(r)] for y in range(c)] \n",
    "    for i in range(r):\n",
    "        for j in range(c):\n",
    "            B[j][i]=A[i][j]                                            # Algorithm to transpose matrix A\n",
    "    return B,c,r"
   ]
  },
  {
   "cell_type": "markdown",
   "metadata": {},
   "source": [
    "### To sort a matrix and its elements"
   ]
  },
  {
   "cell_type": "code",
   "execution_count": null,
   "metadata": {},
   "outputs": [],
   "source": [
    "#To define sub_matrix\n",
    "def sub_matrix(x,n_r,n_c):\n",
    "\n",
    "\treturn x[n_r:nrow(x),n_c:ncol(x)]\n",
    "\n",
    "\n",
    "def insert_sub_matrix(x,y,n_r,n_c):\n",
    "\n",
    "    x[n_r:,n_c:]=y\n",
    "    return x\n",
    "\n",
    "#To sort a matrix elements\n",
    "def sort_matrix(x,n_c):\n",
    "\n",
    "\tmax_pos=abs(x[:,n_c]).argmax()\n",
    "\ttemp=np.array(x[max_pos,:])\n",
    "\tx[max_pos,:]=x[0,:]\n",
    "\tx[0,:]=temp\n",
    "\n",
    "\treturn x\n",
    "#A round function\n",
    "def approximate(x):\n",
    "\tfor i in range(0,nrow(x)):\n",
    "\t\tfor j in range(0,ncol(x)):\n",
    "\t\t\tx[i,j]=round(float(x[i,j]),2)\n",
    "\n",
    "\treturn x"
   ]
  }
 ],
 "metadata": {
  "kernelspec": {
   "display_name": "Python 3",
   "language": "python",
   "name": "python3"
  },
  "language_info": {
   "codemirror_mode": {
    "name": "ipython",
    "version": 3
   },
   "file_extension": ".py",
   "mimetype": "text/x-python",
   "name": "python",
   "nbconvert_exporter": "python",
   "pygments_lexer": "ipython3",
   "version": "3.7.6"
  }
 },
 "nbformat": 4,
 "nbformat_minor": 4
}
