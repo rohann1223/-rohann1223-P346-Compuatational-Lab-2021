{
 "cells": [
  {
   "cell_type": "code",
   "execution_count": 1,
   "metadata": {},
   "outputs": [
    {
     "name": "stdout",
     "output_type": "stream",
     "text": [
      "The given matrix is  [[0.0, 2.0, 8.0, 6.0], [0.0, 0.0, 1.0, 2.0], [0.0, 1.0, 0.0, 1.0], [3.0, 7.0, 1.0, 0.0]] \n",
      "\n",
      "Lower Triangular\n",
      "[1, 0, 0, 0]\n",
      "[0.0, 1, 0, 0]\n",
      "[0.0, 0.5, 1, 0]\n",
      "[0.0, 0.0, -0.25, 1]\n",
      "Upper Triangular\n",
      "[3.0, 7.0, 1.0, 0.0]\n",
      "[0, 2.0, 8.0, 6.0]\n",
      "[0, 0, -4.0, -2.0]\n",
      "[0, 0, 0, 1.5]\n",
      "The inverse of the given matrix is \n",
      "[0.3333333333333333, -0.25000000000000006, -1.8333333333333333, 1.6666666666666667]\n",
      "[0.0, 0.08333333333333337, 0.8333333333333333, -0.6666666666666667]\n",
      "[-0.0, 0.16666666666666666, -0.3333333333333333, -0.3333333333333333]\n",
      "[0.0, -0.08333333333333333, 0.16666666666666666, 0.6666666666666666]\n",
      "\n",
      "To verify we multiply inverse by original matrix to get an identity matrix\n",
      "The product of \n",
      "[0.3333333333333333, -0.25000000000000006, -1.8333333333333333, 1.6666666666666667]\n",
      "[0.0, 0.08333333333333337, 0.8333333333333333, -0.6666666666666667]\n",
      "[-0.0, 0.16666666666666666, -0.3333333333333333, -0.3333333333333333]\n",
      "[0.0, -0.08333333333333333, 0.16666666666666666, 0.6666666666666666]\n",
      "and \n",
      "[3.0, 7.0, 1.0, 0.0]\n",
      "[0.0, 2.0, 8.0, 6.0]\n",
      "[0.0, 1.0, 0.0, 1.0]\n",
      "[0.0, 0.0, 1.0, 2.0]\n",
      "is\n",
      "[1.0, 0, 0, 0]\n",
      "[0, 1.0, 0, 0]\n",
      "[0, 0, 1.0, 0]\n",
      "[0, 0, 0, 1.0]\n"
     ]
    }
   ],
   "source": [
    "#Q2\n",
    "#Calculating inverse using LU decomposition\n",
    "\n",
    "import library as lib  #importing library of functions\n",
    "#storing identity matrix\n",
    "I = lib.matrixtxt('identity.txt')\n",
    "#storing the matrix given\n",
    "A = lib.matrixtxt('inverse.txt')\n",
    "print (\"The given matrix is \" , A, \"\\n\")\n",
    "\n",
    "#calling the function to calculate inverse\n",
    "X = lib.inverseLU(A,I)\n",
    "print (\"\\nTo verify we multiply inverse by original matrix to get an identity matrix\")\n",
    "#verifying the calculated inverse by multiplying with matrix\n",
    "verification = lib.multiplysquare(X,A)\n",
    "\n",
    "\n",
    "\n"
   ]
  },
  {
   "cell_type": "code",
   "execution_count": null,
   "metadata": {},
   "outputs": [],
   "source": []
  }
 ],
 "metadata": {
  "interpreter": {
   "hash": "d11266fe9ecec1da5e61ebcc33d198b029f4069f6ffded2281a9eae3e5440979"
  },
  "kernelspec": {
   "display_name": "Python 3",
   "language": "python",
   "name": "python3"
  },
  "language_info": {
   "codemirror_mode": {
    "name": "ipython",
    "version": 3
   },
   "file_extension": ".py",
   "mimetype": "text/x-python",
   "name": "python",
   "nbconvert_exporter": "python",
   "pygments_lexer": "ipython3",
   "version": "3.7.6"
  }
 },
 "nbformat": 4,
 "nbformat_minor": 5
}
