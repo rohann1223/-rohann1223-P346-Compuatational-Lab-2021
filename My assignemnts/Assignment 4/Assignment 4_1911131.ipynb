{
 "cells": [
  {
   "cell_type": "markdown",
   "metadata": {},
   "source": [
    "# Assignment 4"
   ]
  },
  {
   "cell_type": "code",
   "execution_count": 1,
   "metadata": {},
   "outputs": [],
   "source": [
    "#All the necessary codes imported from the library\n",
    "\n",
    "import library as lib  #importing library of functions"
   ]
  },
  {
   "cell_type": "markdown",
   "metadata": {},
   "source": [
    "### Q1 LU decomposition using Doolittle and crout"
   ]
  },
  {
   "cell_type": "code",
   "execution_count": 6,
   "metadata": {},
   "outputs": [
    {
     "name": "stdout",
     "output_type": "stream",
     "text": [
      "Using Doolittle, \n",
      "Lower Triangular\n",
      "[1, 0, 0, 0]\n",
      "[0.0, 1, 0, 0]\n",
      "[0.5, 1.5, 1, 0]\n",
      "[0.5, -0.5, -3.0, 1]\n",
      "Upper Triangular\n",
      "[2.0, 1.0, 3.0, -2.0]\n",
      "[0, 1.0, -2.0, 0.0]\n",
      "[0, 0, 0.5, 1.0]\n",
      "[0, 0, 0, 6.0]\n",
      "The values of x1,x2,x3,x4 from Doolittle algorithm are  [[1.0], [-1.0], [1.0], [2.0]]  respectively \n"
     ]
    }
   ],
   "source": [
    "#Doolittle algorith \n",
    "M = lib.matrixtxt('input.txt')  #storing the given matrix\n",
    "b = lib.matrixtxt('values.txt')  #storing the RHS of equation\n",
    "print (\"Using Doolittle, \")\n",
    "lib.LUDoolite(M)   #calling function for LU using Doolittle\n",
    "L = lib.LUDoolite.L    #storing L and U from the function\n",
    "U = lib.LUDoolite.U  \n",
    "\n",
    "#calling forward backward subsitution to calculate x and printing it simultaneously \n",
    "print(\"The values of x1,x2,x3,x4 from Doolittle algorithm are \", lib.forwardbackward(L, U, b), \" respectively \")"
   ]
  },
  {
   "cell_type": "code",
   "execution_count": 7,
   "metadata": {},
   "outputs": [
    {
     "name": "stdout",
     "output_type": "stream",
     "text": [
      "\n",
      "Now using Crout, \n",
      "Lower Triangular\n",
      "[2.0, 0, 0, 0]\n",
      "[0.0, 1.0, 0, 0]\n",
      "[1.0, 1.5, 0.5, 0]\n",
      "[1.0, -0.5, -1.5, 6.0]\n",
      "\n",
      "Upper Triangular\n",
      "[1, 0.5, 1.5, -1.0]\n",
      "[0, 1, -2.0, 0.0]\n",
      "[0, 0, 1, 2.0]\n",
      "[0, 0, 0, 1]\n",
      "The values of x1,x2,x3,x4 from Crout algorithm are  [[1.0], [-1.0], [1.0], [2.0]]  respectively \n"
     ]
    }
   ],
   "source": [
    "#Crout's algorithm to calculate Lu\n",
    "print (\"\\nNow using Crout, \")\n",
    "M = lib.matrixtxt('input.txt')  #storing the matrix \n",
    "lib.LUCrout(M)              #calling LU crout\n",
    "L2 = lib.LUCrout.L           #storing L and U from the function\n",
    "U2 = lib.LUCrout.U\n",
    "d = lib.matrixtxt('values.txt')   #storing RHS\n",
    "\n",
    "#calling forward backward on L and U, and simultaneously printing the result\n",
    "print(\"The values of x1,x2,x3,x4 from Crout algorithm are \", lib.forwardbackward(L2,U2,d), \" respectively \")"
   ]
  },
  {
   "cell_type": "markdown",
   "metadata": {},
   "source": [
    "### Q2 Calculating inverse using LU decomposition"
   ]
  },
  {
   "cell_type": "code",
   "execution_count": 4,
   "metadata": {},
   "outputs": [
    {
     "name": "stdout",
     "output_type": "stream",
     "text": [
      "The given matrix is  [[0.0, 2.0, 8.0, 6.0], [0.0, 0.0, 1.0, 2.0], [0.0, 1.0, 0.0, 1.0], [3.0, 7.0, 1.0, 0.0]] \n",
      "\n",
      "Lower Triangular\n",
      "[1, 0, 0, 0]\n",
      "[0.0, 1, 0, 0]\n",
      "[0.0, 0.5, 1, 0]\n",
      "[0.0, 0.0, -0.25, 1]\n",
      "Upper Triangular\n",
      "[3.0, 7.0, 1.0, 0.0]\n",
      "[0, 2.0, 8.0, 6.0]\n",
      "[0, 0, -4.0, -2.0]\n",
      "[0, 0, 0, 1.5]\n",
      "The inverse of the given matrix is \n",
      "[0.3333333333333333, -0.25000000000000006, -1.8333333333333333, 1.6666666666666667]\n",
      "[0.0, 0.08333333333333337, 0.8333333333333333, -0.6666666666666667]\n",
      "[-0.0, 0.16666666666666666, -0.3333333333333333, -0.3333333333333333]\n",
      "[0.0, -0.08333333333333333, 0.16666666666666666, 0.6666666666666666]\n",
      "\n",
      "To verify we multiply inverse by original matrix to get an identity matrix\n",
      "The product of \n",
      "[0.3333333333333333, -0.25000000000000006, -1.8333333333333333, 1.6666666666666667]\n",
      "[0.0, 0.08333333333333337, 0.8333333333333333, -0.6666666666666667]\n",
      "[-0.0, 0.16666666666666666, -0.3333333333333333, -0.3333333333333333]\n",
      "[0.0, -0.08333333333333333, 0.16666666666666666, 0.6666666666666666]\n",
      "and \n",
      "[3.0, 7.0, 1.0, 0.0]\n",
      "[0.0, 2.0, 8.0, 6.0]\n",
      "[0.0, 1.0, 0.0, 1.0]\n",
      "[0.0, 0.0, 1.0, 2.0]\n",
      "is\n",
      "[1.0, 0, 0, 0]\n",
      "[0, 1.0, 0, 0]\n",
      "[0, 0, 1.0, 0]\n",
      "[0, 0, 0, 1.0]\n"
     ]
    }
   ],
   "source": [
    "#storing identity matrix\n",
    "I = lib.matrixtxt('identity.txt')\n",
    "#storing the matrix given\n",
    "A = lib.matrixtxt('inverse.txt')\n",
    "print (\"The given matrix is \" , A, \"\\n\")\n",
    "\n",
    "#calling the function to calculate inverse\n",
    "X = lib.inverseLU(A,I)\n",
    "print (\"\\nTo verify we multiply inverse by original matrix to get an identity matrix\")\n",
    "#verifying the calculated inverse by multiplying with matrix\n",
    "verification = lib.multiplysquare(X,A)\n"
   ]
  },
  {
   "cell_type": "markdown",
   "metadata": {},
   "source": [
    "### Q3 Solving the given equation using Cholesky decomposition"
   ]
  },
  {
   "cell_type": "code",
   "execution_count": 5,
   "metadata": {},
   "outputs": [
    {
     "name": "stdout",
     "output_type": "stream",
     "text": [
      "Lower Triangular\n",
      "[3.16, 0, 0, 0]\n",
      "[0.32, 3.45, 0, 0]\n",
      "[0.0, -0.09, 3.08, 0]\n",
      "[0.79, 0.25, 0.01, 2.31]\n",
      "Upper Triangular\n",
      "[3.16, 0.32, 0.0, 0.79]\n",
      "[0, 3.45, -0.09, 0.25]\n",
      "[0, 0, 3.08, 0.01]\n",
      "[0, 0, 0, 2.31]\n",
      "The values of x1,x2,x3,x4 are: \n",
      "0.1\n",
      "0.2\n",
      "0.3\n",
      "0.4\n"
     ]
    }
   ],
   "source": [
    "B = lib.matrixtxt('cholesky.txt')   #storing the given matrix from a txt file\n",
    "lib.Cholesky_Decomposition(B,4)      #calling function to use Cholesky decomposition\n",
    "L = lib.Cholesky_Decomposition.L      #storing L from the function in a varialbe\n",
    "U = lib.Cholesky_Decomposition.U        #storing U from the function in a varialbe\n",
    "c = lib.matrixtxt('valuesC.txt')        #storing RHS of equation\n",
    "\n",
    "#forward backward substitution of LU and printing the result\n",
    "print (\"The values of x1,x2,x3,x4 are: \")\n",
    "for i in range (len(lib.forwardbackward(L,U,c))):   \n",
    "    x = lib.forwardbackward(L,U,c)[i][0] \n",
    "    print (round(x,2))"
   ]
  }
 ],
 "metadata": {
  "kernelspec": {
   "display_name": "Python 3",
   "language": "python",
   "name": "python3"
  },
  "language_info": {
   "codemirror_mode": {
    "name": "ipython",
    "version": 3
   },
   "file_extension": ".py",
   "mimetype": "text/x-python",
   "name": "python",
   "nbconvert_exporter": "python",
   "pygments_lexer": "ipython3",
   "version": "3.7.6"
  }
 },
 "nbformat": 4,
 "nbformat_minor": 4
}
