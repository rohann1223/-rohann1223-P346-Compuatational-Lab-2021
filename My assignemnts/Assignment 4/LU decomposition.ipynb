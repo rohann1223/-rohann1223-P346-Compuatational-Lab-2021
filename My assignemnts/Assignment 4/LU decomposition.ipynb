{
 "cells": [
  {
   "cell_type": "code",
   "execution_count": 3,
   "metadata": {},
   "outputs": [
    {
     "name": "stdout",
     "output_type": "stream",
     "text": [
      "Using Doolittle, \n",
      "Lower Triangular\n",
      "[1, 0, 0, 0]\n",
      "[0.0, 1, 0, 0]\n",
      "[0.5, 1.5, 1, 0]\n",
      "[0.5, -0.5, -3.0, 1]\n",
      "Upper Triangular\n",
      "[2.0, 1.0, 3.0, -2.0]\n",
      "[0, 1.0, -2.0, 0.0]\n",
      "[0, 0, 0.5, 1.0]\n",
      "[0, 0, 0, 6.0]\n",
      "The values of x1,x2,x3,x4 from Doolittle algorithm are  [[1.0], [-1.0], [1.0], [2.0]]  respectively \n"
     ]
    }
   ],
   "source": [
    "#Q1\n",
    "#LU decomposition using Doolittle and crout\n",
    "\n",
    "import library as lib  #importing library of functions\n",
    "\n",
    "#Doolittle algorith \n",
    "M = lib.matrixtxt('input.txt')  #storing the given matrix\n",
    "b = lib.matrixtxt('values.txt')  #storing the RHS of equation\n",
    "print (\"Using Doolittle, \")\n",
    "lib.LUDoolite(M)   #calling function for LU using Doolittle\n",
    "L = lib.LUDoolite.L    #storing L and U from the function\n",
    "U = lib.LUDoolite.U  \n",
    "\n",
    "#calling forward backward subsitution to calculate x and printing it simultaneously \n",
    "print(\"The values of x1,x2,x3,x4 from Doolittle algorithm are \", lib.forwardbackward(L, U, b), \" respectively \")\n",
    "\n",
    "\n"
   ]
  },
  {
   "cell_type": "code",
   "execution_count": 4,
   "metadata": {},
   "outputs": [
    {
     "name": "stdout",
     "output_type": "stream",
     "text": [
      "\n",
      "Now using Crout, \n",
      "Lower Triangular\n",
      "[2.0, 0, 0, 0]\n",
      "[0.0, 1.0, 0, 0]\n",
      "[1.0, 1.5, 0.5, 0]\n",
      "[1.0, -0.5, -1.5, 6.0]\n",
      "\n",
      "Upper Triangular\n",
      "[1, 0.5, 1.5, -1.0]\n",
      "[0, 1, -2.0, 0.0]\n",
      "[0, 0, 1, 2.0]\n",
      "[0, 0, 0, 1]\n",
      "The values of x1,x2,x3,x4 from Crout algorithm are  [[1.0], [-1.0], [1.0], [2.0]]  respectively \n"
     ]
    }
   ],
   "source": [
    "#Crout's algorithm to calculate Lu\n",
    "print (\"\\nNow using Crout, \")\n",
    "M = lib.matrixtxt('input.txt')  #storing the matrix \n",
    "lib.LUCrout(M)              #calling LU crout\n",
    "L2 = lib.LUCrout.L           #storing L and U from the function\n",
    "U2 = lib.LUCrout.U\n",
    "d = lib.matrixtxt('values.txt')   #storing RHS\n",
    "\n",
    "#calling forward backward on L and U, and simultaneously printing the result\n",
    "print(\"The values of x1,x2,x3,x4 from Crout algorithm are \", lib.forwardbackward(L2,U2,d), \" respectively \")\n"
   ]
  },
  {
   "cell_type": "code",
   "execution_count": null,
   "metadata": {},
   "outputs": [],
   "source": []
  }
 ],
 "metadata": {
  "interpreter": {
   "hash": "d11266fe9ecec1da5e61ebcc33d198b029f4069f6ffded2281a9eae3e5440979"
  },
  "kernelspec": {
   "display_name": "Python 3",
   "language": "python",
   "name": "python3"
  },
  "language_info": {
   "codemirror_mode": {
    "name": "ipython",
    "version": 3
   },
   "file_extension": ".py",
   "mimetype": "text/x-python",
   "name": "python",
   "nbconvert_exporter": "python",
   "pygments_lexer": "ipython3",
   "version": "3.7.6"
  }
 },
 "nbformat": 4,
 "nbformat_minor": 5
}
