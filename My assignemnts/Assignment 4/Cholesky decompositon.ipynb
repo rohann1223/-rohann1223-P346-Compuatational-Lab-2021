{
 "cells": [
  {
   "cell_type": "code",
   "execution_count": 1,
   "metadata": {},
   "outputs": [
    {
     "name": "stdout",
     "output_type": "stream",
     "text": [
      "Lower Triangular\n",
      "[3.16, 0, 0, 0]\n",
      "[0.32, 3.45, 0, 0]\n",
      "[0.0, -0.09, 3.08, 0]\n",
      "[0.79, 0.25, 0.01, 2.31]\n",
      "Upper Triangular\n",
      "[3.16, 0.32, 0.0, 0.79]\n",
      "[0, 3.45, -0.09, 0.25]\n",
      "[0, 0, 3.08, 0.01]\n",
      "[0, 0, 0, 2.31]\n",
      "The values of x1,x2,x3,x4 are: \n",
      "0.1\n",
      "0.2\n",
      "0.3\n",
      "0.4\n"
     ]
    }
   ],
   "source": [
    "#Q3\n",
    "#Solving the given equation using Cholesky decomposition\n",
    "import library as lib #importing library of functions\n",
    "\n",
    "\n",
    "B = lib.matrixtxt('cholesky.txt')   #storing the given matrix from a txt file\n",
    "lib.Cholesky_Decomposition(B,4)      #calling function to use Cholesky decomposition\n",
    "L = lib.Cholesky_Decomposition.L      #storing L from the function in a varialbe\n",
    "U = lib.Cholesky_Decomposition.U        #storing U from the function in a varialbe\n",
    "c = lib.matrixtxt('valuesC.txt')        #storing RHS of equation\n",
    "\n",
    "#forward backward substitution of LU and printing the result\n",
    "print (\"The values of x1,x2,x3,x4 are: \")\n",
    "for i in range (len(lib.forwardbackward(L,U,c))):   \n",
    "    x = lib.forwardbackward(L,U,c)[i][0] \n",
    "    print (round(x,2))"
   ]
  },
  {
   "cell_type": "code",
   "execution_count": null,
   "metadata": {},
   "outputs": [],
   "source": []
  }
 ],
 "metadata": {
  "interpreter": {
   "hash": "d11266fe9ecec1da5e61ebcc33d198b029f4069f6ffded2281a9eae3e5440979"
  },
  "kernelspec": {
   "display_name": "Python 3",
   "language": "python",
   "name": "python3"
  },
  "language_info": {
   "codemirror_mode": {
    "name": "ipython",
    "version": 3
   },
   "file_extension": ".py",
   "mimetype": "text/x-python",
   "name": "python",
   "nbconvert_exporter": "python",
   "pygments_lexer": "ipython3",
   "version": "3.7.6"
  }
 },
 "nbformat": 4,
 "nbformat_minor": 5
}
