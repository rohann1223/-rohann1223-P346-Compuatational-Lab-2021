{
 "cells": [
  {
   "cell_type": "markdown",
   "metadata": {},
   "source": [
    "# Matrix functions"
   ]
  },
  {
   "cell_type": "markdown",
   "metadata": {},
   "source": [
    "## Matrix algebra"
   ]
  },
  {
   "cell_type": "code",
   "execution_count": 3,
   "metadata": {},
   "outputs": [],
   "source": [
    "#To print a matrix\n",
    "def print_matrix(A,r,c):\n",
    "    print()\n",
    "    print(\"The matrix obtained is: \")\n",
    "    for i in range(r):\n",
    "        for j in range(c):                                           # algorithm to print the matrix with appropriate spaces\n",
    "            print(A[i][j], end='    ')                               # r represents no. of rows and c represents no. of columns\n",
    "        print(\"\\n\")\n",
    "    print()\n",
    "    \n",
    "#To multiply two matrices\n",
    "def matrix_multiply(A,rA,cA,B,rB,cB):                          # rA,rB,cA,cB are no. of rows and columns of A and B respectively\n",
    "    if cA==rB:                                                       # checking if the two matrices A and B can be multiplied\n",
    "        C=[[0 for i in range(cB)] for j in range(rA)]                # initializing matrix C\n",
    "        for i in range(rA):\n",
    "            for j in range(cB):\n",
    "                for k in range(cB):\n",
    "                    C[i][j]+=float(A[i][k])*float(B[k][j])            # matrix A and B multiplication algorithm\n",
    "        print_matrix(C,rA,cB)\n",
    "    else:\n",
    "        print(\"Matrices are not compatible to perform multiplication.\")\n",
    "\n",
    "#To take transpose of a matrix\n",
    "def transpose_matrix(A,r,c):\n",
    "    B = [[0 for x in range(r)] for y in range(c)] \n",
    "    for i in range(r):\n",
    "        for j in range(c):\n",
    "            B[j][i]=A[i][j]                                            # Algorithm to transpose matrix A\n",
    "    return B,c,r"
   ]
  },
  {
   "cell_type": "markdown",
   "metadata": {},
   "source": [
    "## Gauss Jordan Elimination"
   ]
  },
  {
   "cell_type": "code",
   "execution_count": 4,
   "metadata": {},
   "outputs": [],
   "source": [
    "# function to swap row1 and row2\n",
    "\n",
    "def swap_rows(Ab,row1,row2):\n",
    "    temp = Ab[row1]\n",
    "    Ab[row1] = Ab[row2]\n",
    "    Ab[row2] = temp\n",
    "    return Ab\n",
    "\n",
    "\n",
    "# Function for partial pivoting\n",
    "\n",
    "def partial_pivot(Ab,m,nrows):\n",
    "    pivot = Ab[m][m]    # declaring the pivot\n",
    "    if (Ab[m][m] != 0):\n",
    "        return Ab    # return if partial pivot is not required\n",
    "    else:\n",
    "        for r in range(m+1,nrows):\n",
    "            # check for non-zero pivot and swap rows with it\n",
    "            if Ab[r][m] != 0:\n",
    "                pivot = Ab[r][m]\n",
    "                Ab=swap_rows(Ab,m,r)\n",
    "                return Ab\n",
    "            else:\n",
    "                r+=1\n",
    "    if (pivot==0):    # no unique solution case\n",
    "        return None\n",
    "\n",
    "\n",
    "# Gauss Jordan Elimiination method\n",
    "\n",
    "def gauss_jordan(Ab,nrows,ncols):\n",
    "    det=1\n",
    "    r=0\n",
    "    # does partial pivoting\n",
    "    Ab = partial_pivot(Ab,r,nrows)\n",
    "    for r in range(0,nrows):\n",
    "        # no solution case\n",
    "        if Ab==None:\n",
    "            return Ab\n",
    "        else:\n",
    "            # Changes the diagonal elements to unity\n",
    "            fact=Ab[r][r]\n",
    "            det=det*fact # calculates the determinant\n",
    "            for c in range(r,ncols):\n",
    "                Ab[r][c]*=1/fact\n",
    "            # Changes the off-diagonal elements to zero\n",
    "            for r1 in range(0,nrows):\n",
    "                # does not change if it is already done\n",
    "                if (r1==r or Ab[r1][r]==0):\n",
    "                    r1+=1\n",
    "                else:\n",
    "                    factor = Ab[r1][r]\n",
    "                    for c in range(r,ncols):\n",
    "                        Ab[r1][c]-= factor * Ab[r][c]\n",
    "    return Ab, det\n",
    "\n",
    "\n",
    "# Function to extract inverse from augmented matrix\n",
    "\n",
    "def get_inv(A,n):\n",
    "    r=len(A)\n",
    "    c=len(A[0])\n",
    "    M=[[0 for j in range(n)] for i in range(n)]\n",
    "    for i in range(r):\n",
    "        for j in range(n,c):\n",
    "            M[i][j-n]=A[i][j]\n",
    "    return M\n",
    "\n",
    "\n",
    "# Function to round off all elements of a matrix\n",
    "\n",
    "def round_matrix(M,r):\n",
    "    for i in range(len(M)):\n",
    "        for j in range(len(M[0])):\n",
    "            M[i][j]=round(M[i][j],r)\n",
    "    return M\n"
   ]
  },
  {
   "cell_type": "code",
   "execution_count": null,
   "metadata": {},
   "outputs": [],
   "source": []
  },
  {
   "cell_type": "code",
   "execution_count": null,
   "metadata": {},
   "outputs": [],
   "source": []
  }
 ],
 "metadata": {
  "kernelspec": {
   "display_name": "Python 3",
   "language": "python",
   "name": "python3"
  },
  "language_info": {
   "codemirror_mode": {
    "name": "ipython",
    "version": 3
   },
   "file_extension": ".py",
   "mimetype": "text/x-python",
   "name": "python",
   "nbconvert_exporter": "python",
   "pygments_lexer": "ipython3",
   "version": "3.7.6"
  }
 },
 "nbformat": 4,
 "nbformat_minor": 4
}
