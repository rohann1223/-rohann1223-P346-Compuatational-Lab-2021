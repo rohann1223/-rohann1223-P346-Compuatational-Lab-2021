{
 "cells": [
  {
   "cell_type": "markdown",
   "metadata": {},
   "source": [
    "# Assignment 3"
   ]
  },
  {
   "cell_type": "code",
   "execution_count": 26,
   "metadata": {},
   "outputs": [],
   "source": [
    "%run My_Functions_Library.ipynb  # Running the entire library in one line because \n",
    "                        # importing does not work with JupyterLab"
   ]
  },
  {
   "cell_type": "code",
   "execution_count": 27,
   "metadata": {},
   "outputs": [],
   "source": [
    "# function to swap row1 and row2\n",
    "\n",
    "def swap_rows(Ab,row1,row2):\n",
    "    temp = Ab[row1]\n",
    "    Ab[row1] = Ab[row2]\n",
    "    Ab[row2] = temp\n",
    "    return Ab\n",
    "\n",
    "\n",
    "# Function for partial pivoting\n",
    "\n",
    "def partial_pivot(Ab,m,nrows):\n",
    "    pivot = Ab[m][m]    # declaring the pivot\n",
    "    if (Ab[m][m] != 0):\n",
    "        return Ab    # return if partial pivot is not required\n",
    "    else:\n",
    "        for r in range(m+1,nrows):\n",
    "            # check for non-zero pivot and swap rows with it\n",
    "            if Ab[r][m] != 0:\n",
    "                pivot = Ab[r][m]\n",
    "                Ab=swap_rows(Ab,m,r)\n",
    "                return Ab\n",
    "            else:\n",
    "                r+=1\n",
    "    if (pivot==0):    # no unique solution case\n",
    "        return None\n",
    "\n",
    "\n",
    "# Gauss Jordan Elimiination method\n",
    "\n",
    "def gauss_jordan(Ab,nrows,ncols):\n",
    "    det=1\n",
    "    r=0\n",
    "    # does partial pivoting\n",
    "    Ab = partial_pivot(Ab,r,nrows)\n",
    "    for r in range(0,nrows):\n",
    "        # no solution case\n",
    "        if Ab==None:\n",
    "            return Ab\n",
    "        else:\n",
    "            # Changes the diagonal elements to unity\n",
    "            fact=Ab[r][r]\n",
    "            det=det*fact # calculates the determinant\n",
    "            for c in range(r,ncols):\n",
    "                Ab[r][c]*=1/fact\n",
    "            # Changes the off-diagonal elements to zero\n",
    "            for r1 in range(0,nrows):\n",
    "                # does not change if it is already done\n",
    "                if (r1==r or Ab[r1][r]==0):\n",
    "                    r1+=1\n",
    "                else:\n",
    "                    factor = Ab[r1][r]\n",
    "                    for c in range(r,ncols):\n",
    "                        Ab[r1][c]-= factor * Ab[r][c]\n",
    "    return Ab, det\n",
    "\n",
    "\n",
    "# Function to extract inverse from augmented matrix\n",
    "\n",
    "def get_inv(A,n):\n",
    "    r=len(A)\n",
    "    c=len(A[0])\n",
    "    M=[[0 for j in range(n)] for i in range(n)]\n",
    "    for i in range(r):\n",
    "        for j in range(n,c):\n",
    "            M[i][j-n]=A[i][j]\n",
    "    return M\n",
    "\n",
    "\n",
    "# Function to round off all elements of a matrix\n",
    "\n",
    "def round_matrix(M,r):\n",
    "    for i in range(len(M)):\n",
    "        for j in range(len(M[0])):\n",
    "            M[i][j]=round(M[i][j],r)\n",
    "    return M\n",
    "\n",
    "\n",
    "import pandas as pd   #to read csv files ONLY\n",
    "import numpy as np    #to store matrices ONLY\n",
    "#--------------------------------"
   ]
  },
  {
   "cell_type": "markdown",
   "metadata": {},
   "source": [
    "## Question 1"
   ]
  },
  {
   "cell_type": "code",
   "execution_count": 31,
   "metadata": {},
   "outputs": [
    {
     "name": "stdout",
     "output_type": "stream",
     "text": [
      "The augmented matrix is: \n",
      "[[ 1  1  1  1 13]\n",
      " [ 2  3  0 -1 -1]\n",
      " [-3  4  1  2 10]\n",
      " [ 1  2 -1  1  1]]\n"
     ]
    },
    {
     "ename": "ValueError",
     "evalue": "The truth value of an array with more than one element is ambiguous. Use a.any() or a.all()",
     "output_type": "error",
     "traceback": [
      "\u001b[1;31m---------------------------------------------------------------------------\u001b[0m",
      "\u001b[1;31mValueError\u001b[0m                                Traceback (most recent call last)",
      "\u001b[1;32mC:\\Users\\ROHANT~1\\AppData\\Local\\Temp/ipykernel_13324/1019615478.py\u001b[0m in \u001b[0;36m<module>\u001b[1;34m\u001b[0m\n\u001b[0;32m      8\u001b[0m \u001b[0mprint\u001b[0m\u001b[1;33m(\u001b[0m\u001b[1;34m\"The augmented matrix is: \"\u001b[0m\u001b[1;33m)\u001b[0m\u001b[1;33m\u001b[0m\u001b[1;33m\u001b[0m\u001b[0m\n\u001b[0;32m      9\u001b[0m \u001b[0mprint\u001b[0m\u001b[1;33m(\u001b[0m\u001b[0mAb\u001b[0m\u001b[1;33m)\u001b[0m\u001b[1;33m\u001b[0m\u001b[1;33m\u001b[0m\u001b[0m\n\u001b[1;32m---> 10\u001b[1;33m \u001b[0mGJ\u001b[0m\u001b[1;33m,\u001b[0m \u001b[0md\u001b[0m\u001b[1;33m=\u001b[0m\u001b[0mgauss_jordan\u001b[0m\u001b[1;33m(\u001b[0m\u001b[0mA\u001b[0m\u001b[1;33m,\u001b[0m\u001b[1;36m4\u001b[0m\u001b[1;33m,\u001b[0m\u001b[1;36m5\u001b[0m\u001b[1;33m)\u001b[0m\u001b[1;33m\u001b[0m\u001b[1;33m\u001b[0m\u001b[0m\n\u001b[0m\u001b[0;32m     11\u001b[0m \u001b[1;32mif\u001b[0m \u001b[0mGJ\u001b[0m\u001b[1;33m!=\u001b[0m\u001b[1;32mNone\u001b[0m\u001b[1;33m:\u001b[0m\u001b[1;33m\u001b[0m\u001b[1;33m\u001b[0m\u001b[0m\n\u001b[0;32m     12\u001b[0m     \u001b[0mM\u001b[0m\u001b[1;33m=\u001b[0m\u001b[0mround_matrix\u001b[0m\u001b[1;33m(\u001b[0m\u001b[0mA\u001b[0m\u001b[1;33m,\u001b[0m\u001b[1;36m2\u001b[0m\u001b[1;33m)\u001b[0m\u001b[1;33m\u001b[0m\u001b[1;33m\u001b[0m\u001b[0m\n",
      "\u001b[1;32mC:\\Users\\ROHANT~1\\AppData\\Local\\Temp/ipykernel_13324/1068150949.py\u001b[0m in \u001b[0;36mgauss_jordan\u001b[1;34m(Ab, nrows, ncols)\u001b[0m\n\u001b[0;32m     36\u001b[0m     \u001b[1;32mfor\u001b[0m \u001b[0mr\u001b[0m \u001b[1;32min\u001b[0m \u001b[0mrange\u001b[0m\u001b[1;33m(\u001b[0m\u001b[1;36m0\u001b[0m\u001b[1;33m,\u001b[0m\u001b[0mnrows\u001b[0m\u001b[1;33m)\u001b[0m\u001b[1;33m:\u001b[0m\u001b[1;33m\u001b[0m\u001b[1;33m\u001b[0m\u001b[0m\n\u001b[0;32m     37\u001b[0m         \u001b[1;31m# no solution case\u001b[0m\u001b[1;33m\u001b[0m\u001b[1;33m\u001b[0m\u001b[1;33m\u001b[0m\u001b[0m\n\u001b[1;32m---> 38\u001b[1;33m         \u001b[1;32mif\u001b[0m \u001b[0mAb\u001b[0m\u001b[1;33m==\u001b[0m\u001b[1;32mNone\u001b[0m\u001b[1;33m:\u001b[0m\u001b[1;33m\u001b[0m\u001b[1;33m\u001b[0m\u001b[0m\n\u001b[0m\u001b[0;32m     39\u001b[0m             \u001b[1;32mreturn\u001b[0m \u001b[0mAb\u001b[0m\u001b[1;33m\u001b[0m\u001b[1;33m\u001b[0m\u001b[0m\n\u001b[0;32m     40\u001b[0m         \u001b[1;32melse\u001b[0m\u001b[1;33m:\u001b[0m\u001b[1;33m\u001b[0m\u001b[1;33m\u001b[0m\u001b[0m\n",
      "\u001b[1;31mValueError\u001b[0m: The truth value of an array with more than one element is ambiguous. Use a.any() or a.all()"
     ]
    }
   ],
   "source": [
    "#importing the augmented matrix \n",
    "Ab=np.array(pd.read_csv(\"A.csv\",header=None))\n",
    "\n",
    "#--------------------------------\n",
    "nrow = lambda x: x.shape[0]\n",
    "ncol = lambda x: x.shape[1]\n",
    "#--------------------------------\n",
    "print(\"The augmented matrix is: \")\n",
    "print(Ab)\n",
    "GJ, d=gauss_jordan(A,4,5)\n",
    "if GJ!=None:\n",
    "    M=round_matrix(A,2)\n",
    "    print(\"Solutions are : \")\n",
    "    for i in range(4):\n",
    "        print(M[i][4])\n",
    "else:\n",
    "    print(\"No unique solution\")\n"
   ]
  },
  {
   "cell_type": "code",
   "execution_count": null,
   "metadata": {},
   "outputs": [],
   "source": []
  },
  {
   "cell_type": "code",
   "execution_count": null,
   "metadata": {},
   "outputs": [],
   "source": []
  }
 ],
 "metadata": {
  "kernelspec": {
   "display_name": "Python 3",
   "language": "python",
   "name": "python3"
  },
  "language_info": {
   "codemirror_mode": {
    "name": "ipython",
    "version": 3
   },
   "file_extension": ".py",
   "mimetype": "text/x-python",
   "name": "python",
   "nbconvert_exporter": "python",
   "pygments_lexer": "ipython3",
   "version": "3.7.6"
  }
 },
 "nbformat": 4,
 "nbformat_minor": 4
}
