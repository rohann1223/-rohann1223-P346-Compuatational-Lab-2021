{
 "cells": [
  {
   "cell_type": "markdown",
   "metadata": {},
   "source": [
    "### Q1a Sum over first N natural numbers"
   ]
  },
  {
   "cell_type": "code",
   "execution_count": 99,
   "metadata": {},
   "outputs": [
    {
     "name": "stdout",
     "output_type": "stream",
     "text": [
      "The sum of first 16 natural numbers is = 136\n",
      "The sum of first 100 natural numbers is = 5050\n",
      "The entered value is not a natural number.\n",
      "The entered value is not a natural number.\n",
      "The sum of first 36 natural numbers is = 666\n",
      "The entered value is not a natural number.\n"
     ]
    }
   ],
   "source": [
    "#Sum over first N natural numbers#\n",
    "\n",
    "def Sum(N):                                                       # N is the number of terms required#\n",
    "    if N < 1 or N > 0 and N - int(N)!= 0 :\n",
    "        print(\"The entered value is not a natural number.\")       #checking if N is not a natural number#\n",
    "\n",
    "    else:\n",
    "        S = 0\n",
    "        for i in range(1,int(N)+1):\n",
    "            S = S + i\n",
    "        print(\"The sum of first\" , int(N) , \"natural numbers is =\", S)\n",
    "\n",
    "Sum(16)\n",
    "Sum(100)\n",
    "Sum(2.5)\n",
    "Sum(-8)\n",
    "Sum(36)\n",
    "Sum(0)\n",
    "\n"
   ]
  },
  {
   "cell_type": "markdown",
   "metadata": {},
   "source": [
    "### Q1b Sum over first N odd natural numbers"
   ]
  },
  {
   "cell_type": "code",
   "execution_count": 100,
   "metadata": {},
   "outputs": [
    {
     "name": "stdout",
     "output_type": "stream",
     "text": [
      "The sum of first 4 odd natural numbers is = 16\n",
      "The entered value is not a natural number.\n",
      "The entered value is not a natural number.\n",
      "The entered value is not a natural number.\n",
      "The sum of first 9 odd natural numbers is = 81\n"
     ]
    }
   ],
   "source": [
    "# Sum over first N odd natural numbers#\n",
    "\n",
    "def odd_sum(N):                                                    # N is the number of terms required#\n",
    "    if N < 1 or N > 0 and N - int(N)!= 0 :   \n",
    "        print(\"The entered value is not a natural number.\")        #checking if N is not a natural number#\n",
    "    else:\n",
    "        S = 0\n",
    "        j = 1\n",
    "        for i in range(1,int(N)+1): \n",
    "            S = S + j\n",
    "            i = i + 1\n",
    "            j = j + 2\n",
    "        print(\"The sum of first\" , int(N) , \"odd natural numbers is =\", S)\n",
    "    \n",
    "odd_sum(4)\n",
    "odd_sum(0)\n",
    "odd_sum(-10)\n",
    "odd_sum(5.9)\n",
    "odd_sum(9)\n",
    "    "
   ]
  },
  {
   "cell_type": "markdown",
   "metadata": {},
   "source": [
    "### Q2a Sum over the first N terms on an AP with common difference = 1.5"
   ]
  },
  {
   "cell_type": "code",
   "execution_count": 101,
   "metadata": {},
   "outputs": [
    {
     "name": "stdout",
     "output_type": "stream",
     "text": [
      "The sum of first 7  terms of an AP with initial term 1.5 and common difference of 1.5 is = 42.0\n",
      "The entered value is not a natural number.\n",
      "The entered value is not a natural number.\n",
      "The sum of first 100  terms of an AP with initial term 1.0 and common difference of 1.5 is = 7525.0\n",
      "The entered value is not a natural number.\n"
     ]
    }
   ],
   "source": [
    "# Sum over the first N terms on an AP with common difference = 1.5 #\n",
    "\n",
    "def Sum_AP(a_1,N):                                                       # N is the number of terms required and a_1 is the first term required#\n",
    "    if N < 1 or N > 0 and N - int(N)!= 0 :                               #checking if N is not a natural number#\n",
    "        print(\"The entered value is not a natural number.\")              \n",
    "    \n",
    "    else:\n",
    "        S = 0 \n",
    "        j = a_1                                                            #taking first term of the AP#\n",
    "        for i in range(1,int(N)+1): \n",
    "            S = S + j\n",
    "            i = i + 1\n",
    "            j = j + 1.5                                                  #given the common difference of the AP = 1.5#\n",
    "        print(\"The sum of first\" , int(N) , \" terms of an AP with initial term\" , float(a_1) ,\"and common difference of 1.5 is =\", S)\n",
    "        \n",
    "Sum_AP(1.5,7)\n",
    "Sum_AP(2,-5)\n",
    "Sum_AP(3,0)\n",
    "Sum_AP(1,100)\n",
    "Sum_AP(5,7.5)"
   ]
  },
  {
   "cell_type": "markdown",
   "metadata": {},
   "source": [
    "### Q2b Sum of first N terms of a GP with common ration = 0.5"
   ]
  },
  {
   "cell_type": "code",
   "execution_count": 102,
   "metadata": {},
   "outputs": [
    {
     "name": "stdout",
     "output_type": "stream",
     "text": [
      "The sum of first 4  terms of an GP with initial term 1.0 and with common ratio of 0.5 is = 1.875\n",
      "The entered value is not a natural number. Please enter a natural number.\n",
      "The entered value is not a natural number. Please enter a natural number.\n",
      "The entered value is not a natural number. Please enter a natural number.\n",
      "The sum of first 25  terms of an GP with initial term 1.5 and with common ratio of 0.5 is = 2.999999910593033\n"
     ]
    }
   ],
   "source": [
    "# Sum of first N terms of a GP with common ration = 0.5 #\n",
    "\n",
    "def Sum_GP(a_1,N):                                                                               # N is the number of terms required and a_1 is the first term required#\n",
    "    if N < 1 or N > 0 and N - int(N)!= 0 :\n",
    "        print(\"The entered value is not a natural number. Please enter a natural number.\")       #checking if N is not a natural number#\n",
    "    \n",
    "    else:\n",
    "        S = 0 \n",
    "        j = a_1                                         #first term of GP#\n",
    "        for i in range(1,int(N)+1): \n",
    "            S = S + j\n",
    "            i = i + 1\n",
    "            j = j*0.5                                 #common ratio of GP taken to be 0.5#\n",
    "        print(\"The sum of first\" , int(N) , \" terms of an GP with initial term\" , float(a_1) ,\"and with common ratio of 0.5 is =\", S)\n",
    "        \n",
    "Sum_GP(1,4)\n",
    "Sum_GP(2,0)\n",
    "Sum_GP(2,-5)\n",
    "Sum_GP(1.5,7.5)\n",
    "Sum_GP(1.5,25)"
   ]
  },
  {
   "cell_type": "markdown",
   "metadata": {},
   "source": [
    "### Q2c Sum over the first N terms on an HP with common difference = 1.5"
   ]
  },
  {
   "cell_type": "code",
   "execution_count": 103,
   "metadata": {},
   "outputs": [
    {
     "name": "stdout",
     "output_type": "stream",
     "text": [
      "The entered value is not a natural number. Please enter a natural number.\n",
      "The entered value is not a natural number. Please enter a natural number.\n",
      "The sum of first 20  terms of an HP with initial term 1.0 and with common difference of 1.5 is equal = 2.8815786000970864\n",
      "The entered value is not a natural number. Please enter a natural number.\n",
      "The sum of first 4  terms of an HP with initial term 1.5 and with common difference of 1.5 is equal = 1.388888888888889\n"
     ]
    }
   ],
   "source": [
    "# Sum over the first N terms on an HP with common difference = 1.5 #\n",
    "\n",
    "def Sum_HP(a_1,N):                                           # N is the number of terms required and a_1 is the first term required#\n",
    "    if N < 1 or N > 0 and N - int(N)!= 0 :\n",
    "        print(\"The entered value is not a natural number. Please enter a natural number.\")\n",
    "    \n",
    "    else:\n",
    "        S = 0 \n",
    "        j = a_1                                      #The first term of HP#\n",
    "        for i in range(0,int(N)): \n",
    "            S = S + 1/j\n",
    "            i = i + 1\n",
    "            j = j + 1.5                            #the common difference of HP is given as 1.5#\n",
    "        print(\"The sum of first\" , int(N) , \" terms of an HP with initial term\" , float(a_1) ,\"and with common difference of 1.5 is equal =\", S)\n",
    "\n",
    "Sum_HP(2,0)\n",
    "Sum_HP(3,-5)\n",
    "Sum_HP(1,20)\n",
    "Sum_HP(2,7.5)\n",
    "Sum_HP(1.5,4)"
   ]
  },
  {
   "cell_type": "markdown",
   "metadata": {},
   "source": [
    "### Q3 Factorial of Natural number N"
   ]
  },
  {
   "cell_type": "code",
   "execution_count": 104,
   "metadata": {},
   "outputs": [
    {
     "name": "stdout",
     "output_type": "stream",
     "text": [
      "The factorial of 0  is equal to 1\n",
      "The factorial of 4  is equal to 24\n",
      "The entered value is not a natural number.\n",
      "The entered value is not a natural number.\n",
      "The entered value is not a natural number.\n",
      "The factorial of 12  is equal to 479001600\n"
     ]
    }
   ],
   "source": [
    "#To find  Factorial of Natural number N#\n",
    "\n",
    "\n",
    "\n",
    "\n",
    "def Fact(N):\n",
    "    if N < 0 or N > 0 and N - int(N)!= 0 :\n",
    "        print(\"The entered value is not a natural number.\")          #checking if N is not a natural number#\n",
    "    else:\n",
    "        fact = 1 \n",
    "        for i in range(1,int(N)+1):\n",
    "            fact = fact * i\n",
    "            i = i + 1\n",
    "        print(\"The factorial of\", int(N) ,\" is equal to\",fact)\n",
    "    \n",
    "\n",
    "Fact(0)\n",
    "Fact(4)\n",
    "Fact(-0.5)\n",
    "Fact(-5)\n",
    "Fact(3.4)\n",
    "Fact(12)"
   ]
  },
  {
   "cell_type": "markdown",
   "metadata": {},
   "source": [
    "### Q4 To calculate sin(x) and exp(−x) accurate up to 4 place in decimal and to plot modulus of error versus iteration numbers\n"
   ]
  },
  {
   "cell_type": "code",
   "execution_count": 105,
   "metadata": {},
   "outputs": [
    {
     "name": "stdout",
     "output_type": "stream",
     "text": [
      "sin(1) is 0.8414\n",
      "sin(25) is -0.1324\n",
      "sin(0) is 0.0\n",
      "sin(-5) is 0.9589\n",
      "sin(2.5) is 0.5984\n",
      "\n",
      "\n",
      "e^[-(2)] is 0.1353\n",
      "e^[-(4)] is 0.0183\n",
      "e^[-(6.7)] is 0.0012\n",
      "e^[-(-5)] is 148.4131\n",
      "e^[-(0)] is 1.0\n",
      "\n",
      "\n",
      "Modulus of error for sin(25) is [25.132351750097772, 2579.0343149165687, 78801.17401841676, 1132213.8309419006, 9380069.198227521, 50348811.64932602, 188949589.1822186, 523248032.34023565, 1113235472.996286, 1877414207.8087611, 2572957341.008273, 2924043089.842807, 2801999025.6270676, 2295972943.2741737, 1627958683.035279, 1009092141.097418, 551662371.2917258, 268061637.31601775, 116568621.97815621, 45640495.47046641, 16177003.557209888, 5216095.49721851, 1536776.6790530798, 415371.8455397712, 103375.10508545494, 23768.75536190441, 5064.667272202846, 1002.9721710015428, 185.08379767099564, 31.904799763351686, 5.149264006174836, 0.7797656548477133, 0.11101404182033806, 0.01488765660063257, 0.00188313656072861, 0.0002258666034264667, 2.4918590180250666e-05, 3.322985676373902e-06]\n",
      "\n",
      "\n",
      "Modulus of error for e^(-4) is [0.9816843611112658, 3.018315638888734, 4.981684361111266, 5.6849823055554, 4.981684361111266, 3.5516489722220674, 2.1372399166668217, 1.1135537341268291, 0.5118430912699963, 0.21055549779525945, 0.0784039378308428, 0.026672220578648945, 0.008353165557848305, 0.0024238763303046917, 0.0006552784948818807, 0.00016582945850120503, 3.944752984456554e-05, 8.852938001499555e-06]\n"
     ]
    },
    {
     "data": {
      "image/png": "[encoded data removed]",
      "text/plain": [
       "<Figure size 432x288 with 1 Axes>"
      ]
     },
     "metadata": {
      "needs_background": "light"
     },
     "output_type": "display_data"
    },
    {
     "data": {
      "image/png": "[encoded data removed]",
      "text/plain": [
       "<Figure size 432x288 with 1 Axes>"
      ]
     },
     "metadata": {
      "needs_background": "light"
     },
     "output_type": "display_data"
    }
   ],
   "source": [
    "# importing \"math\" for mathematical operations \n",
    "\n",
    "import math\n",
    "\n",
    "import matplotlib.pyplot as plt\n",
    "\n",
    "def Fact(N):\n",
    "    if N < 0 or N > 0 and N - int(N)!= 0 :\n",
    "        print(\"The entered value is not a natural number.\")          #checking if N is not a natural number#\n",
    "    else:\n",
    "        fact = 1 \n",
    "        for i in range(1,int(N)+1):\n",
    "            fact = fact * i\n",
    "            i = i + 1\n",
    "        return fact \n",
    "    \n",
    "#function to calculate sin(x) using Taylor Expansion#\n",
    "\n",
    "def sin(x):\n",
    "    sin_x = 0\n",
    "    i = 0\n",
    "    while abs((sin_x) - math.sin(x)) > 0.00001 :\n",
    "        temp = ((-1)**i)*(x**(2*i+1))/(Fact(2*i+1))\n",
    "        sin_x += temp\n",
    "        i = i+1\n",
    "    \n",
    "    print (\"sin(\"+ str(x) + \") is \" + str(math.floor(sin_x*10**4)/10**4))\n",
    "    \n",
    "    \n",
    "#function to calculate e^(-x) using Taylor expansion#\n",
    "\n",
    "def eminusx(x):\n",
    "    e_minusx =0\n",
    "    m = 0\n",
    "    while abs((e_minusx)- math.exp(-x)) > 0.00001:\n",
    "        temp_2 = (((-1)**m)*(x**m))/Fact(m)\n",
    "        e_minusx += temp_2\n",
    "        m = m + 1\n",
    "    print (\"e^[-(\"+ str(x) + \")] is \" + str(math.floor(e_minusx*10**4)/10**4))\n",
    "    \n",
    "sin(1)\n",
    "sin(25)\n",
    "sin(0)\n",
    "sin(-5)\n",
    "sin(2.5)\n",
    "\n",
    "print('\\n')\n",
    "eminusx(2)\n",
    "eminusx(4)\n",
    "eminusx(6.7)\n",
    "eminusx(-5)\n",
    "eminusx(0)\n",
    "print('\\n')\n",
    "\n",
    "\n",
    "#for graph\n",
    "\n",
    "\n",
    "#graph for sin(x)\n",
    "\n",
    "#plotting the error for sin(25 radians) against the iterative numbers\n",
    "\n",
    "\n",
    "singraph = []\n",
    "i = 0\n",
    "sin_a = 0\n",
    "\n",
    "while abs((sin_a) - math.sin(25)) > 0.00001 :\n",
    "    temp3 = ((-1)**i)*(25**(2*i+1))/(Fact(2*i+1))\n",
    "    sin_a += temp3\n",
    "    i = i+1\n",
    "    singraph.append(float(abs((sin_a) - (math.sin(25)))))\n",
    "    \n",
    "print (\"Modulus of error for sin(25) is \" + str(singraph))\n",
    "print('\\n')\n",
    "\n",
    "#graph for e^(-x)\n",
    "#plotting the errorr for e^(-4) against the iterative numbers\n",
    "\n",
    "expgraph = []\n",
    "j = 0\n",
    "e_minusb = 0\n",
    "\n",
    "while abs((e_minusb)- math.exp(-4)) > 0.00001:\n",
    "    temp2 = (((-1)**j)*((4)**j))/Fact(j)\n",
    "    e_minusb += temp2\n",
    "    j = j + 1\n",
    "    expgraph.append(float(abs((e_minusb)- math.exp(-4))))\n",
    "    \n",
    "print(\"Modulus of error for e^(-4) is \" + str(expgraph))\n",
    "\n",
    "\n",
    "plt.plot(range(i), singraph, '-o')\n",
    "\n",
    "\n",
    "plt.xlabel(\"No. Iteration\")\n",
    "plt.ylabel(\"|S_n(x)-sin(x)| for x=25 radians\")\n",
    "pt.title(\"Error in sin(x) V/s No. Iteration\")\n",
    "plt.show()\n",
    "\n",
    "\n",
    "plt.plot(range(j), expgraph, '-o')\n",
    "\n",
    "\n",
    "plt.xlabel(\"No. Iteration\")\n",
    "plt.ylabel(\"|e_n(x)-e^{-x}| for x=4\")\n",
    "pt.title(\"Error in e^-x V/s No. Iteration\")\n",
    "plt.show()\n"
   ]
  },
  {
   "cell_type": "code",
   "execution_count": null,
   "metadata": {},
   "outputs": [],
   "source": []
  }
 ],
 "metadata": {
  "kernelspec": {
   "display_name": "Python 3",
   "language": "python",
   "name": "python3"
  },
  "language_info": {
   "codemirror_mode": {
    "name": "ipython",
    "version": 3
   },
   "file_extension": ".py",
   "mimetype": "text/x-python",
   "name": "python",
   "nbconvert_exporter": "python",
   "pygments_lexer": "ipython3",
   "version": "3.7.6"
  }
 },
 "nbformat": 4,
 "nbformat_minor": 4
}
